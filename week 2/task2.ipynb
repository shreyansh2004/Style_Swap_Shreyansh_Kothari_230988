{
  "nbformat": 4,
  "nbformat_minor": 0,
  "metadata": {
    "colab": {
      "provenance": []
    },
    "kernelspec": {
      "name": "python3",
      "display_name": "Python 3"
    },
    "language_info": {
      "name": "python"
    }
  },
  "cells": [
    {
      "cell_type": "code",
      "source": [
        "import torch\n",
        "import torch.nn as nn\n",
        "import torch.nn.functional as F"
      ],
      "metadata": {
        "id": "NxgthjRANAfi"
      },
      "execution_count": 1,
      "outputs": []
    },
    {
      "cell_type": "code",
      "source": [
        "class DoubleConv(nn.Module):\n",
        "    def __init__(self, in_channels, out_channels):\n",
        "        super(DoubleConv, self).__init__()\n",
        "        self.double_conv = nn.Sequential(\n",
        "            nn.Conv2d(in_channels, out_channels, kernel_size=3, padding=1),\n",
        "            nn.BatchNorm2d(out_channels),\n",
        "            nn.ReLU(inplace=True),\n",
        "            nn.Conv2d(out_channels, out_channels, kernel_size=3, padding=1),\n",
        "            nn.BatchNorm2d(out_channels),\n",
        "            nn.ReLU(inplace=True)\n",
        "        )\n",
        "\n",
        "    def forward(self, x):\n",
        "        return self.double_conv(x)\n",
        "\n",
        "class UNet(nn.Module):\n",
        "    def __init__(self, in_channels=3, out_channels=3):\n",
        "        super(UNet, self).__init__()\n",
        "\n",
        "        self.inc = DoubleConv(in_channels, 64)\n",
        "        self.down1 = nn.Sequential(\n",
        "            nn.AvgPool2d(kernel_size=2, stride=2),\n",
        "            DoubleConv(64, 128)\n",
        "        )\n",
        "        self.down2 = nn.Sequential(\n",
        "            nn.AvgPool2d(kernel_size=2, stride=2),\n",
        "            DoubleConv(128, 256)\n",
        "        )\n",
        "        self.down3 = nn.Sequential(\n",
        "            nn.AvgPool2d(kernel_size=2, stride=2),\n",
        "            DoubleConv(256, 512)\n",
        "        )\n",
        "        self.down4 = nn.Sequential(\n",
        "            nn.AvgPool2d(kernel_size=2, stride=2),\n",
        "            DoubleConv(512, 1024)\n",
        "        )\n",
        "\n",
        "        self.up1 = nn.Sequential(\n",
        "            nn.ConvTranspose2d(1024, 512, kernel_size=2, stride=2),\n",
        "            DoubleConv(1024, 512)\n",
        "        )\n",
        "        self.up2 = nn.Sequential(\n",
        "            nn.ConvTranspose2d(512, 256, kernel_size=2, stride=2),\n",
        "            DoubleConv(512, 256)\n",
        "        )\n",
        "        self.up3 = nn.Sequential(\n",
        "            nn.ConvTranspose2d(256, 128, kernel_size=2, stride=2),\n",
        "            DoubleConv(256, 128)\n",
        "        )\n",
        "        self.up4 = nn.Sequential(\n",
        "            nn.ConvTranspose2d(128, 64, kernel_size=2, stride=2),\n",
        "            DoubleConv(128, 64)\n",
        "        )\n",
        "\n",
        "        self.outc = nn.Conv2d(64, out_channels, kernel_size=1)\n",
        "\n",
        "    def forward(self, x):\n",
        "        x1 = self.inc(x)\n",
        "        x2 = self.down1(x1)\n",
        "        x3 = self.down2(x2)\n",
        "        x4 = self.down3(x3)\n",
        "        x5 = self.down4(x4)\n",
        "\n",
        "        x = self.up1(torch.cat([F.interpolate(x5, scale_factor=2, align_corners=True), x4], dim=1))\n",
        "        x = self.up2(torch.cat([F.interpolate(x, scale_factor=2, align_corners=True), x3], dim=1))\n",
        "        x = self.up3(torch.cat([F.interpolate(x, scale_factor=2, align_corners=True), x2], dim=1))\n",
        "        x = self.up4(torch.cat([F.interpolate(x, scale_factor=2, align_corners=True), x1], dim=1))\n",
        "\n",
        "        final = nn.Sigmoid(self.outc(x))\n",
        "        return final"
      ],
      "metadata": {
        "id": "ZPAxPSYoLiui"
      },
      "execution_count": 3,
      "outputs": []
    }
  ]
}